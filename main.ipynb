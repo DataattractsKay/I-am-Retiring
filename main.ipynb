{
  "nbformat": 4,
  "nbformat_minor": 0,
  "metadata": {
    "colab": {
      "provenance": []
    },
    "kernelspec": {
      "name": "python3",
      "display_name": "Python 3"
    },
    "language_info": {
      "name": "python"
    }
  },
  "cells": [
    {
      "cell_type": "markdown",
      "source": [
        "# Configuration\n",
        "\n",
        "- Update `config.py` file with your API keys and other configuration settings.\n",
        "\n",
        "# File Structure\n",
        "\n",
        "- `main.py`: Main Python script for interacting with WhatsApp and Gmail APIs.\n",
        "- `config.py`: Configuration file for storing API keys and other settings.\n",
        "- `whatsapp.csv`: Sample CSV file containing WhatsApp conversations.\n",
        "- `gmail.csv`: Sample CSV file containing Gmail emails.\n",
        "- `README.md`: Project documentation.\n",
        "\n",
        "# Contributors\n",
        "\n",
        "- [Kanika Varandani](https://www.linkedin.com/in/ka-nick-ka/)"
      ],
      "metadata": {
        "id": "Zm_4q0wVCL2v"
      }
    }
  ]
}